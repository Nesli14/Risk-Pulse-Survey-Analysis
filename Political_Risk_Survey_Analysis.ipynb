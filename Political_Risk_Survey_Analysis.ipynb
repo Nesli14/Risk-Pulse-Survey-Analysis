{
 "cells": [
  {
   "cell_type": "code",
   "execution_count": null,
   "metadata": {},
   "outputs": [],
   "source": [
    "import glob\n",
    "import numpy as np\n",
    "import pandas as pd"
   ]
  },
  {
   "cell_type": "markdown",
   "metadata": {},
   "source": [
    "# Transforming Data"
   ]
  },
  {
   "cell_type": "code",
   "execution_count": null,
   "metadata": {},
   "outputs": [],
   "source": [
    "#Import Data\n",
    "#Please insert the directory of the csv files\n",
    "\n",
    "path = r' ' \n",
    "all_files = glob.glob(path + \"/*.csv\")\n",
    "\n",
    "li = []\n",
    "\n",
    "for filename in all_files:\n",
    "    df = pd.read_csv(filename, index_col=None, header=0)\n",
    "    li.append(df) "
   ]
  },
  {
   "cell_type": "code",
   "execution_count": null,
   "metadata": {},
   "outputs": [],
   "source": [
    "# Merge 3 data subsets into one dataframe and drop duplicate respondents\n",
    "\n",
    "frame = pd.concat(li, keys = ['Wave1','Wave2', 'Wave3'],sort=True).drop_duplicates(subset='meta.uuid')"
   ]
  },
  {
   "cell_type": "code",
   "execution_count": null,
   "metadata": {},
   "outputs": [],
   "source": [
    "#Assign categorical values for gender: female=0 , male=1\n",
    "\n",
    "frame['dem.gender'].to_frame\n",
    "frame['female'] = pd.get_dummies(frame['dem.gender'], drop_first=True)"
   ]
  },
  {
   "cell_type": "code",
   "execution_count": null,
   "metadata": {},
   "outputs": [],
   "source": [
    "# 1.Define three age categories: young adults (younger than 35 years old), middle-aged adults (aged between 35 and 55 years), older adults (older than 55 years of age)\n",
    "# 2.Assign age category to respondents  \n",
    "\n",
    "age_group = []\n",
    "\n",
    "for x in frame['dem.age'].values:\n",
    "    if x < 35:\n",
    "        age_group.append(1)\n",
    "    elif 35 <= x and x < 55:\n",
    "        age_group.append(2)\n",
    "    else:\n",
    "        age_group.append(3)\n",
    "        \n",
    "frame['age_group'] = age_group\n",
    "        "
   ]
  },
  {
   "cell_type": "code",
   "execution_count": null,
   "metadata": {},
   "outputs": [],
   "source": [
    "#Assign categorical values to level of education completed: no=0, low=1, medium=3,high=4\n",
    "education_level = []\n",
    "\n",
    "frame['dem.education_level'].to_frame\n",
    "\n",
    "for level in frame['dem.education_level']:\n",
    "    if level == 'no':\n",
    "        education_level.append(0)\n",
    "    elif level == 'low':\n",
    "        education_level.append(1)\n",
    "    elif level == 'medium':\n",
    "        education_level.append(2)\n",
    "    else:\n",
    "        education_level.append(3)\n",
    "        \n",
    "frame['education_level']=education_level\n"
   ]
  },
  {
   "cell_type": "code",
   "execution_count": null,
   "metadata": {},
   "outputs": [],
   "source": [
    "# Two questions to split into individual binary columns\n",
    "columns=['question.DAL_positive_countries_MX_BR_VE','question.DAL_negative_countries_MX_BR_VE']\n",
    "\n",
    "    "
   ]
  },
  {
   "cell_type": "code",
   "execution_count": null,
   "metadata": {},
   "outputs": [],
   "source": [
    "# Create a lit of waves(from data subsets)\n",
    "# Define a function that returns a dataframe per wave\n",
    "\n",
    "waves=frame['level_0'].unique()  \n",
    "\n",
    "def wave(wave_name):\n",
    "    return frame[frame['level_0']== wave_name]\n",
    "    \n"
   ]
  },
  {
   "cell_type": "code",
   "execution_count": null,
   "metadata": {},
   "outputs": [],
   "source": [
    "# Iterate over the waves, columns(two questions) and each respondent (each row)\n",
    "# If there is response given, split the countries by '|'\n",
    "# Create a new column per question and per country in response, if not existing already, and assign default value of 0\n",
    "# If a country name is in the given response, assign value of 1 to the corresponding country column\n",
    "\n",
    "for wave_name in waves:\n",
    "    wave_frame=wave(wave_name)\n",
    "    for column in columns:\n",
    "        for x in wave_frame[column].keys(): # iterate over keys because of dropped duplicate respondent indeces\n",
    "            exists = not pd.isnull(wave_frame[column][x]) \n",
    "            if exists:                         \n",
    "                countries = wave_frame[column][x].split('|')\n",
    "                for country in countries:\n",
    "                    col_name = column +'_'+ country.strip()\n",
    "                    if (col_name) not in frame:\n",
    "                        frame[col_name] = 0\n",
    "                    frame.loc[(frame.index == x) & (frame['level_0'] == wave_name), col_name] = 1     \n",
    "            else:\n",
    "                \n",
    "                wave_frame[column][x]== 0\n",
    "                       "
   ]
  },
  {
   "cell_type": "code",
   "execution_count": null,
   "metadata": {},
   "outputs": [],
   "source": [
    "# Write the new dataset to a seperate csv file \n",
    "frame.to_csv('Waves_merged.csv', index=False)"
   ]
  },
  {
   "cell_type": "code",
   "execution_count": null,
   "metadata": {},
   "outputs": [],
   "source": []
  },
  {
   "cell_type": "markdown",
   "metadata": {},
   "source": [
    "# EDA"
   ]
  },
  {
   "cell_type": "code",
   "execution_count": null,
   "metadata": {},
   "outputs": [],
   "source": [
    "import seaborn as sns\n",
    "import matplotlib.pyplot as plt\n",
    "%matplotlib inline"
   ]
  },
  {
   "cell_type": "code",
   "execution_count": 3,
   "metadata": {},
   "outputs": [],
   "source": [
    "# Respondent Demographics\n",
    "# Gender: 54% female\n",
    "# Age: More than 50% are in the young category. The youngest respondent is 14 and the oldest respondenst is 65 years old.\n",
    "# Education: Respondont group consists more of people with low to medium level education levels compared to people with no or high education levels.\n",
    "frame[['dem.age','female','education_level','question.DAL_positive_countries_MX_BR_VE_China', 'question.DAL_positive_countries_MX_BR_VE_United States']].describe()"
   ]
  },
  {
   "cell_type": "code",
   "execution_count": null,
   "metadata": {},
   "outputs": [],
   "source": [
    "# Bar graphs showing male and female repondents's answer for if US and Chinese companies have an overall positive impact in resondents' own countries\n",
    "# Responses are counted per country and response options (Y/N) across three waves\n",
    "\n",
    "f, axes = plt.subplots(3,2, figsize=(10,8), sharey=True, sharex=True)\n",
    "\n",
    "ax1=sns.countplot( x= 'question.DAL_positive_countries_MX_BR_VE_United States', data=frame[frame['level_0']== 'Wave1'], ax=axes[0, 0], orient='v',hue='female',palette='viridis')\n",
    "ax1.set_ylabel('Wave1')\n",
    "ax1.set_xlabel('')\n",
    "ax1.legend().remove()\n",
    "\n",
    "ax2=sns.countplot( x='question.DAL_positive_countries_MX_BR_VE_China', data=frame[frame['level_0']== 'Wave1'],   orient='v', ax=axes[0,1], hue='female', palette='viridis')\n",
    "ax2.legend(labels=[ 'male', 'female'],loc='upper right', bbox_to_anchor=(1.3,1), prop={'size': 10})\n",
    "ax2.set_xlabel('')\n",
    "ax2.set_ylabel('')\n",
    "\n",
    "ax3=sns.countplot( x= 'question.DAL_positive_countries_MX_BR_VE_United States', data=frame[frame['level_0']== 'Wave2'], ax=axes[1, 0], orient='v',hue='female',palette='viridis')\n",
    "ax3.set_ylabel('Wave2')\n",
    "ax3.set_xlabel('')\n",
    "ax3.legend().remove()\n",
    "\n",
    "ax4=sns.countplot( x='question.DAL_positive_countries_MX_BR_VE_China', data=frame[frame['level_0']== 'Wave2'],   orient='v', ax=axes[1,1], hue='female', palette='viridis')\n",
    "ax4.legend().remove()\n",
    "ax4.set_xlabel('')\n",
    "ax4.set_ylabel('')\n",
    "\n",
    "ax5=sns.countplot( x= 'question.DAL_positive_countries_MX_BR_VE_United States', data=frame[frame['level_0']== 'Wave3'], ax=axes[2, 0], orient='v',hue='female',palette='viridis')\n",
    "ax5.set_ylabel('Wave3')\n",
    "ax5.set_xlabel('United States - Positive')\n",
    "ax5.legend().remove()\n",
    "\n",
    "ax6=sns.countplot( x='question.DAL_positive_countries_MX_BR_VE_China', data=frame[frame['level_0']== 'Wave3'],   orient='v', ax=axes[2,1], hue='female', palette='viridis')\n",
    "ax6.legend().remove()\n",
    "ax6.set_xlabel('China- Positive')\n",
    "ax6.set_ylabel('')\n",
    "\n",
    "plt.tight_layout()  "
   ]
  },
  {
   "cell_type": "code",
   "execution_count": null,
   "metadata": {},
   "outputs": [],
   "source": [
    "# Bar graphs showing answers of respondents from different age groups for if US and Chinese companies have an overall positive impact in resondents' own countries\n",
    "# Responses are counted per country and response options (Y/N) across three waves\n",
    "\n",
    "f, axes = plt.subplots(3,2, figsize=(10,8), sharey=True, sharex=True)\n",
    "\n",
    "ax1=sns.countplot( x= 'question.DAL_positive_countries_MX_BR_VE_United States', data=frame[frame['level_0']== 'Wave1'], ax=axes[0, 0], orient='v',hue='age_group',palette='viridis')\n",
    "ax1.set_ylabel('Wave1')\n",
    "ax1.set_xlabel('')\n",
    "ax1.legend().remove()\n",
    "\n",
    "ax2=sns.countplot( x='question.DAL_positive_countries_MX_BR_VE_China', data=frame[frame['level_0']== 'Wave1'],   orient='v', ax=axes[0,1], hue='age_group', palette='viridis')\n",
    "ax2.legend(labels=['Younger', 'Middle-Aged', 'Older'], loc='upper right', bbox_to_anchor=(1.5,1), prop={'size': 12})\n",
    "ax2.set_xlabel('')\n",
    "ax2.set_ylabel('')\n",
    "\n",
    "ax3=sns.countplot( x= 'question.DAL_positive_countries_MX_BR_VE_United States', data=frame[frame['level_0']== 'Wave2'], ax=axes[1, 0], orient='v',hue='age_group',palette='viridis')\n",
    "ax3.set_ylabel('Wave2')\n",
    "ax3.set_xlabel('')\n",
    "ax3.legend().remove()\n",
    "\n",
    "ax4=sns.countplot( x='question.DAL_positive_countries_MX_BR_VE_China', data=frame[frame['level_0']== 'Wave2'],   orient='v', ax=axes[1,1], hue='age_group', palette='viridis')\n",
    "ax4.legend().remove()\n",
    "ax4.set_xlabel('')\n",
    "ax4.set_ylabel('')\n",
    "\n",
    "ax5=sns.countplot( x= 'question.DAL_positive_countries_MX_BR_VE_United States', data=frame[frame['level_0']== 'Wave3'], ax=axes[2, 0], orient='v',hue='age_group',palette='viridis')\n",
    "ax5.set_ylabel('Wave3')\n",
    "ax5.set_xlabel('United States - Positive')\n",
    "ax5.legend().remove()\n",
    "\n",
    "ax6=sns.countplot( x='question.DAL_positive_countries_MX_BR_VE_China', data=frame[frame['level_0']== 'Wave3'],   orient='v', ax=axes[2,1], hue='age_group', palette='viridis')\n",
    "ax6.legend().remove()\n",
    "ax6.set_xlabel('China- Positive')\n",
    "ax6.set_ylabel('')\n",
    "\n",
    "plt.tight_layout() \n",
    " "
   ]
  },
  {
   "cell_type": "code",
   "execution_count": null,
   "metadata": {
    "scrolled": true
   },
   "outputs": [],
   "source": [
    "# Bar graphs showing answers of respondents with different education levels for if US and Chinese companies have an overall positive impact in resondents' own countries\n",
    "# Responses are counted per country and response options (Y/N) across three waves\n",
    "\n",
    "f, axes = plt.subplots(3,2, figsize=(12,8), sharey=True, sharex=True)\n",
    "\n",
    "ax1=sns.countplot( x= 'question.DAL_positive_countries_MX_BR_VE_United States', data=frame[frame['level_0']== 'Wave1'], ax=axes[0, 0], orient='v',hue='education_level',palette='viridis')\n",
    "ax1.set_ylabel('Wave1')\n",
    "ax1.set_xlabel('')\n",
    "ax1.legend().remove()\n",
    "\n",
    "ax2=sns.countplot( x='question.DAL_positive_countries_MX_BR_VE_China', data=frame[frame['level_0']== 'Wave1'],   orient='v', ax=axes[0,1], hue='education_level', palette='viridis')\n",
    "ax2.legend(labels=['No Education', 'Low-level Education', 'Medium-level Education', 'High-level Education'], loc='upper right', bbox_to_anchor=(1.6,1), prop={'size': 10})\n",
    "ax2.set_xlabel('')\n",
    "ax2.set_ylabel('')\n",
    "\n",
    "ax3=sns.countplot( x= 'question.DAL_positive_countries_MX_BR_VE_United States', data=frame[frame['level_0']== 'Wave2'], ax=axes[1, 0], orient='v',hue='education_level',palette='viridis')\n",
    "ax3.set_ylabel('Wave2')\n",
    "ax3.set_xlabel('')\n",
    "ax3.legend().remove()\n",
    "\n",
    "ax4=sns.countplot( x='question.DAL_positive_countries_MX_BR_VE_China', data=frame[frame['level_0']== 'Wave2'],   orient='v', ax=axes[1,1], hue='education_level', palette='viridis')\n",
    "ax4.legend().remove()\n",
    "ax4.set_xlabel('')\n",
    "ax4.set_ylabel('')\n",
    "\n",
    "ax5=sns.countplot( x= 'question.DAL_positive_countries_MX_BR_VE_United States', data=frame[frame['level_0']== 'Wave3'], ax=axes[2, 0], orient='v',hue='education_level',palette='viridis')\n",
    "ax5.set_ylabel('Wave3')\n",
    "ax5.set_xlabel('United States - Positive')\n",
    "ax5.legend().remove()\n",
    "\n",
    "ax6=sns.countplot( x='question.DAL_positive_countries_MX_BR_VE_China', data=frame[frame['level_0']== 'Wave3'],   orient='v', ax=axes[2,1], hue='education_level', palette='viridis')\n",
    "ax6.legend().remove()\n",
    "ax6.set_xlabel('China- Positive')\n",
    "ax6.set_ylabel('')\n",
    "\n",
    "plt.tight_layout() \n",
    " "
   ]
  },
  {
   "cell_type": "code",
   "execution_count": null,
   "metadata": {},
   "outputs": [],
   "source": [
    "# Table of the results (in percentages) for the positive perception of China and the United States, segmented by wave, country, gender, education level and three age groups\n",
    "# Each cell shows the percentage of positive responses per condition that the respondents are in.\n",
    "# For exmple, first cell shows that 23% of respondents who are young females with high education levels and who completed the survey in the first wave in Brazil have positive perception for the Chinese companies.\n",
    "\n",
    "table = pd.pivot_table(frame, values=['question.DAL_positive_countries_MX_BR_VE_United States','question.DAL_positive_countries_MX_BR_VE_China'], index=['level_0','dem.gender', 'dem.education_level', 'age_group'],columns=['dem.country_code'], fill_value=0,aggfunc='count').div(len(frame.index)).mul(100).round(2)\n",
    "table"
   ]
  },
  {
   "cell_type": "markdown",
   "metadata": {},
   "source": [
    "# Data Analysis"
   ]
  },
  {
   "cell_type": "code",
   "execution_count": null,
   "metadata": {},
   "outputs": [],
   "source": [
    "from scipy import stats"
   ]
  },
  {
   "cell_type": "code",
   "execution_count": null,
   "metadata": {},
   "outputs": [],
   "source": [
    "# Correlations between gender, age group and education level of the respondents, and their perception of the US and China across three waves\n",
    "# Although some of the correlations are significant p<0.01, effect sizes are too small approximating to 0.\n",
    "# Results show taht data collection in different waves does not have a significant impact on respondents' perception of the US and China.\n",
    "\n",
    "corr_table=[]\n",
    "\n",
    "\n",
    "for dv in ['question.DAL_positive_countries_MX_BR_VE_United States', 'question.DAL_positive_countries_MX_BR_VE_China']:\n",
    "    for iv in ['female', 'age_group', 'education_level']:\n",
    "        for wave_name in waves:\n",
    "            wave_frame=wave(wave_name)\n",
    "            \n",
    "            corr_table.append([stats.pearsonr(wave_frame[iv],wave_frame[dv])])\n",
    "            print(wave_name,iv,dv + str(stats.pearsonr(wave_frame[iv],wave_frame[dv])))\n",
    "\n",
    "corr_table=np.reshape(corr_table, (18,2)) "
   ]
  },
  {
   "cell_type": "code",
   "execution_count": null,
   "metadata": {},
   "outputs": [],
   "source": [
    "# Pairwise correlations for the columns with demographics data aggregated over the waves\n",
    "# There is a significant positive correlation between having positive perception of the US companies and having positive perception of Chineese companies, r=0.39, p=0.0.\n",
    "# This indicates that as the positive perception for the US companies increases, positive perception of Chinese companies increases as well.\n",
    "# Also, as the repondents think that the US companies have more negative impact on their countries, then they are more likely to think that Chinese companies have negative impact on their countries as well.\n",
    "\n",
    "log_reg_data=frame[['level_0','female', 'age_group','education_level','question.DAL_positive_countries_MX_BR_VE_United States','question.DAL_positive_countries_MX_BR_VE_China']]\n",
    "log_reg_data.corr()"
   ]
  },
  {
   "cell_type": "code",
   "execution_count": null,
   "metadata": {},
   "outputs": [],
   "source": [
    "stats.pearsonr(log_reg_data['question.DAL_positive_countries_MX_BR_VE_United States'], log_reg_data['question.DAL_positive_countries_MX_BR_VE_China'])"
   ]
  },
  {
   "cell_type": "code",
   "execution_count": null,
   "metadata": {},
   "outputs": [],
   "source": [
    "# Building Logistic Regression Model for the Perception of US Companies\n"
   ]
  },
  {
   "cell_type": "code",
   "execution_count": null,
   "metadata": {},
   "outputs": [],
   "source": [
    "waves=[]\n",
    "for i in log_reg_data['level_0'].values:\n",
    "    \n",
    "    if i == 'Wave1':\n",
    "        waves.append(1)\n",
    "    elif i == 'Wave2':\n",
    "        waves.append(2)\n",
    "    else:\n",
    "        waves.append(3)  \n",
    "log_reg_data['level_0']=waves"
   ]
  },
  {
   "cell_type": "code",
   "execution_count": null,
   "metadata": {},
   "outputs": [],
   "source": []
  },
  {
   "cell_type": "code",
   "execution_count": null,
   "metadata": {},
   "outputs": [],
   "source": [
    "from sklearn.model_selection import train_test_split"
   ]
  },
  {
   "cell_type": "code",
   "execution_count": null,
   "metadata": {},
   "outputs": [],
   "source": [
    "# Split the data into test and train data\n",
    "X=log_reg_data.drop(['question.DAL_positive_countries_MX_BR_VE_United States','question.DAL_positive_countries_MX_BR_VE_China'], axis=1)\n",
    "y= log_reg_data['question.DAL_positive_countries_MX_BR_VE_United States']\n",
    "X_train, X_test, y_train, y_test = train_test_split(X, y, test_size=0.3, random_state=0)"
   ]
  },
  {
   "cell_type": "code",
   "execution_count": null,
   "metadata": {},
   "outputs": [],
   "source": [
    "from sklearn.linear_model import LogisticRegression"
   ]
  },
  {
   "cell_type": "code",
   "execution_count": null,
   "metadata": {},
   "outputs": [],
   "source": [
    "#Model Creation\n",
    "log_model=LogisticRegression()"
   ]
  },
  {
   "cell_type": "code",
   "execution_count": null,
   "metadata": {},
   "outputs": [],
   "source": [
    "# Fit the test data to the model\n",
    "log_model.fit(X_train,y_train)"
   ]
  },
  {
   "cell_type": "code",
   "execution_count": null,
   "metadata": {},
   "outputs": [],
   "source": [
    "# Predict responses based on the model using test data\n",
    "predictions=log_model.predict(X_test)"
   ]
  },
  {
   "cell_type": "code",
   "execution_count": null,
   "metadata": {},
   "outputs": [],
   "source": [
    "from sklearn.metrics import classification_report,confusion_matrix"
   ]
  },
  {
   "cell_type": "code",
   "execution_count": null,
   "metadata": {},
   "outputs": [],
   "source": [
    "print(classification_report(y_test, predictions))\n",
    "print(confusion_matrix(y_test, predictions))"
   ]
  },
  {
   "cell_type": "code",
   "execution_count": null,
   "metadata": {},
   "outputs": [],
   "source": [
    "# Building Logistic Regression Model for the Perception of Chineese Companies"
   ]
  },
  {
   "cell_type": "code",
   "execution_count": null,
   "metadata": {},
   "outputs": [],
   "source": [
    "# Split the data into test and train data\n",
    "y=frame['question.DAL_positive_countries_MX_BR_VE_China']\n",
    "X_train, X_test, y_train, y_test = train_test_split(X, y, test_size=0.3, random_state=0)"
   ]
  },
  {
   "cell_type": "code",
   "execution_count": null,
   "metadata": {},
   "outputs": [],
   "source": [
    "#Model Creation\n",
    "log_model_CH=LogisticRegression()"
   ]
  },
  {
   "cell_type": "code",
   "execution_count": null,
   "metadata": {},
   "outputs": [],
   "source": [
    "# Fit the test data to the model\n",
    "log_model_CH.fit(X_train,y_train)"
   ]
  },
  {
   "cell_type": "code",
   "execution_count": null,
   "metadata": {},
   "outputs": [],
   "source": [
    "# Predict responses based on the model using test data\n",
    "pred=log_model_CH.predict(X_test)"
   ]
  },
  {
   "cell_type": "code",
   "execution_count": null,
   "metadata": {},
   "outputs": [],
   "source": [
    "print(classification_report(y_test, pred))\n",
    "print(confusion_matrix(y_test, pred))"
   ]
  },
  {
   "cell_type": "code",
   "execution_count": null,
   "metadata": {},
   "outputs": [],
   "source": [
    "# Both of the models perfomed poorly with precison values equal or less than 0.60.\n",
    "# Negative answers (0) could not be explained by the model."
   ]
  },
  {
   "cell_type": "code",
   "execution_count": null,
   "metadata": {},
   "outputs": [],
   "source": []
  }
 ],
 "metadata": {
  "kernelspec": {
   "display_name": "Python 3",
   "language": "python",
   "name": "python3"
  },
  "language_info": {
   "codemirror_mode": {
    "name": "ipython",
    "version": 3
   },
   "file_extension": ".py",
   "mimetype": "text/x-python",
   "name": "python",
   "nbconvert_exporter": "python",
   "pygments_lexer": "ipython3",
   "version": "3.6.2"
  }
 },
 "nbformat": 4,
 "nbformat_minor": 2
}
